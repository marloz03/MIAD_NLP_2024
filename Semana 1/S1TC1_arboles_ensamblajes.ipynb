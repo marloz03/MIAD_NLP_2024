{
 "cells": [
  {
   "cell_type": "markdown",
   "metadata": {},
   "source": [
    "![image info](https://raw.githubusercontent.com/albahnsen/MIAD_ML_and_NLP/main/images/banner_1.png)"
   ]
  },
  {
   "cell_type": "markdown",
   "metadata": {},
   "source": [
    "# Taller: Construcción e implementación de árboles de decisión y métodos de ensamblaje\n",
    "\n",
    "En este taller podrá poner en práctica los sus conocimientos sobre construcción e implementación de árboles de decisión y métodos de ensamblajes. El taller está constituido por 9 puntos, 5 relacionados con árboles de decisión (parte A) y 4 con métodos de ensamblaje (parte B)."
   ]
  },
  {
   "cell_type": "markdown",
   "metadata": {},
   "source": [
    "## Parte A - Árboles de decisión\n",
    "\n",
    "En esta parte del taller se usará el conjunto de datos de Capital Bikeshare de Kaggle, donde cada observación representa el alquiler de bicicletas durante una hora y día determinado. Para más detalles puede visitar los siguientes enlaces: [datos](https://archive.ics.uci.edu/ml/machine-learning-databases/00275/Bike-Sharing-Dataset.zip), [dicccionario de datos](https://archive.ics.uci.edu/ml/datasets/Bike+Sharing+Dataset#)."
   ]
  },
  {
   "cell_type": "markdown",
   "metadata": {},
   "source": [
    "### Datos prestamo de bicicletas"
   ]
  },
  {
   "cell_type": "code",
   "execution_count": 1,
   "metadata": {},
   "outputs": [],
   "source": [
    "import warnings\n",
    "warnings.filterwarnings('ignore')"
   ]
  },
  {
   "cell_type": "code",
   "execution_count": 2,
   "metadata": {},
   "outputs": [],
   "source": [
    "# Importación de librerías\n",
    "%matplotlib inline\n",
    "import pandas as pd\n",
    "import numpy as np\n",
    "from sklearn.model_selection import cross_val_score\n",
    "from sklearn.linear_model import LinearRegression\n",
    "from sklearn.tree import DecisionTreeRegressor, export_graphviz"
   ]
  },
  {
   "cell_type": "code",
   "execution_count": 3,
   "metadata": {},
   "outputs": [
    {
     "data": {
      "text/html": [
       "<div>\n",
       "<style scoped>\n",
       "    .dataframe tbody tr th:only-of-type {\n",
       "        vertical-align: middle;\n",
       "    }\n",
       "\n",
       "    .dataframe tbody tr th {\n",
       "        vertical-align: top;\n",
       "    }\n",
       "\n",
       "    .dataframe thead th {\n",
       "        text-align: right;\n",
       "    }\n",
       "</style>\n",
       "<table border=\"1\" class=\"dataframe\">\n",
       "  <thead>\n",
       "    <tr style=\"text-align: right;\">\n",
       "      <th></th>\n",
       "      <th>season</th>\n",
       "      <th>holiday</th>\n",
       "      <th>workingday</th>\n",
       "      <th>weather</th>\n",
       "      <th>temp</th>\n",
       "      <th>atemp</th>\n",
       "      <th>humidity</th>\n",
       "      <th>windspeed</th>\n",
       "      <th>casual</th>\n",
       "      <th>registered</th>\n",
       "      <th>total</th>\n",
       "      <th>hour</th>\n",
       "    </tr>\n",
       "    <tr>\n",
       "      <th>datetime</th>\n",
       "      <th></th>\n",
       "      <th></th>\n",
       "      <th></th>\n",
       "      <th></th>\n",
       "      <th></th>\n",
       "      <th></th>\n",
       "      <th></th>\n",
       "      <th></th>\n",
       "      <th></th>\n",
       "      <th></th>\n",
       "      <th></th>\n",
       "      <th></th>\n",
       "    </tr>\n",
       "  </thead>\n",
       "  <tbody>\n",
       "    <tr>\n",
       "      <th>2011-01-01 00:00:00</th>\n",
       "      <td>1</td>\n",
       "      <td>0</td>\n",
       "      <td>0</td>\n",
       "      <td>1</td>\n",
       "      <td>9.84</td>\n",
       "      <td>14.395</td>\n",
       "      <td>81</td>\n",
       "      <td>0.0</td>\n",
       "      <td>3</td>\n",
       "      <td>13</td>\n",
       "      <td>16</td>\n",
       "      <td>0</td>\n",
       "    </tr>\n",
       "    <tr>\n",
       "      <th>2011-01-01 01:00:00</th>\n",
       "      <td>1</td>\n",
       "      <td>0</td>\n",
       "      <td>0</td>\n",
       "      <td>1</td>\n",
       "      <td>9.02</td>\n",
       "      <td>13.635</td>\n",
       "      <td>80</td>\n",
       "      <td>0.0</td>\n",
       "      <td>8</td>\n",
       "      <td>32</td>\n",
       "      <td>40</td>\n",
       "      <td>1</td>\n",
       "    </tr>\n",
       "    <tr>\n",
       "      <th>2011-01-01 02:00:00</th>\n",
       "      <td>1</td>\n",
       "      <td>0</td>\n",
       "      <td>0</td>\n",
       "      <td>1</td>\n",
       "      <td>9.02</td>\n",
       "      <td>13.635</td>\n",
       "      <td>80</td>\n",
       "      <td>0.0</td>\n",
       "      <td>5</td>\n",
       "      <td>27</td>\n",
       "      <td>32</td>\n",
       "      <td>2</td>\n",
       "    </tr>\n",
       "    <tr>\n",
       "      <th>2011-01-01 03:00:00</th>\n",
       "      <td>1</td>\n",
       "      <td>0</td>\n",
       "      <td>0</td>\n",
       "      <td>1</td>\n",
       "      <td>9.84</td>\n",
       "      <td>14.395</td>\n",
       "      <td>75</td>\n",
       "      <td>0.0</td>\n",
       "      <td>3</td>\n",
       "      <td>10</td>\n",
       "      <td>13</td>\n",
       "      <td>3</td>\n",
       "    </tr>\n",
       "    <tr>\n",
       "      <th>2011-01-01 04:00:00</th>\n",
       "      <td>1</td>\n",
       "      <td>0</td>\n",
       "      <td>0</td>\n",
       "      <td>1</td>\n",
       "      <td>9.84</td>\n",
       "      <td>14.395</td>\n",
       "      <td>75</td>\n",
       "      <td>0.0</td>\n",
       "      <td>0</td>\n",
       "      <td>1</td>\n",
       "      <td>1</td>\n",
       "      <td>4</td>\n",
       "    </tr>\n",
       "  </tbody>\n",
       "</table>\n",
       "</div>"
      ],
      "text/plain": [
       "                     season  holiday  workingday  weather  temp   atemp  \\\n",
       "datetime                                                                  \n",
       "2011-01-01 00:00:00       1        0           0        1  9.84  14.395   \n",
       "2011-01-01 01:00:00       1        0           0        1  9.02  13.635   \n",
       "2011-01-01 02:00:00       1        0           0        1  9.02  13.635   \n",
       "2011-01-01 03:00:00       1        0           0        1  9.84  14.395   \n",
       "2011-01-01 04:00:00       1        0           0        1  9.84  14.395   \n",
       "\n",
       "                     humidity  windspeed  casual  registered  total  hour  \n",
       "datetime                                                                   \n",
       "2011-01-01 00:00:00        81        0.0       3          13     16     0  \n",
       "2011-01-01 01:00:00        80        0.0       8          32     40     1  \n",
       "2011-01-01 02:00:00        80        0.0       5          27     32     2  \n",
       "2011-01-01 03:00:00        75        0.0       3          10     13     3  \n",
       "2011-01-01 04:00:00        75        0.0       0           1      1     4  "
      ]
     },
     "execution_count": 3,
     "metadata": {},
     "output_type": "execute_result"
    }
   ],
   "source": [
    "# Lectura de la información de archivo .csv\n",
    "bikes = pd.read_csv('https://raw.githubusercontent.com/davidzarruk/MIAD_ML_NLP_2023/main/datasets/bikeshare.csv', index_col='datetime', parse_dates=True)\n",
    "\n",
    "# Renombrar variable \"count\" a \"total\"\n",
    "bikes.rename(columns={'count':'total'}, inplace=True)\n",
    "\n",
    "# Crear la hora como una variable \n",
    "bikes['hour'] = bikes.index.hour\n",
    "\n",
    "# Visualización de los datos\n",
    "bikes.head()"
   ]
  },
  {
   "cell_type": "markdown",
   "metadata": {},
   "source": [
    "### Punto 1 - Análisis descriptivo\n",
    "\n",
    "Ejecute las celdas 1.1 y 1.2. A partir de los resultados realice un análisis descriptivo sobre las variables \"season\" y \"hour\", escriba sus inferencias sobre los datos. Para complementar su análisis puede usar métricas como máximo, mínimo, percentiles entre otros."
   ]
  },
  {
   "cell_type": "code",
   "execution_count": 4,
   "metadata": {},
   "outputs": [
    {
     "data": {
      "text/plain": [
       "season\n",
       "1    116.343261\n",
       "2    215.251372\n",
       "3    234.417124\n",
       "4    198.988296\n",
       "Name: total, dtype: float64"
      ]
     },
     "execution_count": 4,
     "metadata": {},
     "output_type": "execute_result"
    }
   ],
   "source": [
    "# Celda 1.1\n",
    "bikes.groupby('season').total.mean()"
   ]
  },
  {
   "cell_type": "code",
   "execution_count": 5,
   "metadata": {},
   "outputs": [
    {
     "data": {
      "text/plain": [
       "hour\n",
       "0      55.138462\n",
       "1      33.859031\n",
       "2      22.899554\n",
       "3      11.757506\n",
       "4       6.407240\n",
       "5      19.767699\n",
       "6      76.259341\n",
       "7     213.116484\n",
       "8     362.769231\n",
       "9     221.780220\n",
       "10    175.092308\n",
       "11    210.674725\n",
       "12    256.508772\n",
       "13    257.787281\n",
       "14    243.442982\n",
       "15    254.298246\n",
       "16    316.372807\n",
       "17    468.765351\n",
       "18    430.859649\n",
       "19    315.278509\n",
       "20    228.517544\n",
       "21    173.370614\n",
       "22    133.576754\n",
       "23     89.508772\n",
       "Name: total, dtype: float64"
      ]
     },
     "metadata": {},
     "output_type": "display_data"
    },
    {
     "name": "stdout",
     "output_type": "stream",
     "text": [
      "\n",
      "La hora en la que existe menor demanda de bicicletas es a las 4 horas, con un promedio de 6.407239819004525bicicletas rentadas.\n",
      "\n",
      "La hora en la que existe una mayor demanda de bicicletas es a las 17 horas, con un promedio de 468.765350877193bicicletas rentadas.\n"
     ]
    }
   ],
   "source": [
    "# Celda 1.2\n",
    "display(bikes.groupby('hour').total.mean())\n",
    "\n",
    "horas_bici = bikes.groupby('hour').total.mean().reset_index()\n",
    "minimo = horas_bici.loc[horas_bici['total'] == min(horas_bici['total']), :]\n",
    "maximo = horas_bici.loc[horas_bici['total'] == max(horas_bici['total']), :]\n",
    "\n",
    "print('\\nLa hora en la que existe menor demanda de bicicletas es a las ' + str(minimo.iloc[0, 0]) + ' horas, con un promedio de ' + str(minimo.iloc[0, 1]) + 'bicicletas rentadas.')\n",
    "print('\\nLa hora en la que existe una mayor demanda de bicicletas es a las ' + str(maximo.iloc[0, 0]) + ' horas, con un promedio de ' + str(maximo.iloc[0, 1]) + 'bicicletas rentadas.')\n"
   ]
  },
  {
   "cell_type": "markdown",
   "metadata": {},
   "source": [
    "La variable **season** indica la temporada en la cual se realizó el alquiler de bicicletas: 1 (invierno), 2 (primavera), 3 (verano) y 4 (otoño). Se puede observar que en invierno se suelen rentar la menor cantidad de bicicletas, con un promedio de 116 bicicletas por hora. Otoño es la segunda época con menor número de alquileres, con 198 bicicletas rentadas por hora. Por otro lado, primavera y verano son las temporadas en las que más se alquilan bicicletas, con un promedio de bicicletas rentadas por hora de 215 y 234 respectivamente. Al analizar esta variable se puede resaltar que la demanda de bicicletas es mayor en épocas con clima más agradable.\n",
    "\n",
    "En lo que respecta a la variable **hour**, se puede analizar la demanda de bicicletas por cada una de las horas del día. Según el promedio de bicicletas rentadas por cada hora, se puede observar que las horas en las que existe una menor demanda son las horas de la madrugada, mientras que la mayor demanda coincide con las horas de entrada y salida del horario laboral, de hecho, la hora en la que existe mayor demanda es a las 17 horas con un promedio de 468 bicicletas y la hora en la que existe menor demanda es a las 4 horas con un promedio de 6 bicicletas."
   ]
  },
  {
   "cell_type": "markdown",
   "metadata": {},
   "source": [
    "### Punto 2 - Análisis de gráficos\n",
    "\n",
    "Primero ejecute la celda 2.1 y asegúrese de comprender el código y el resultado. Luego, en cada una de celdas 2.2 y 2.3 escriba un código que genere una gráfica del número de bicicletas rentadas promedio para cada valor de la variable \"hour\" (hora) cuando la variable \"season\" es igual a 1 (invierno) e igual a 3 (verano), respectivamente. Analice y escriba sus hallazgos."
   ]
  },
  {
   "cell_type": "code",
   "execution_count": 6,
   "metadata": {},
   "outputs": [
    {
     "data": {
      "text/plain": [
       "<Axes: xlabel='hour'>"
      ]
     },
     "execution_count": 6,
     "metadata": {},
     "output_type": "execute_result"
    },
    {
     "data": {
      "image/png": "[encoded data removed]",
      "text/plain": [
       "<Figure size 640x480 with 1 Axes>"
      ]
     },
     "metadata": {},
     "output_type": "display_data"
    }
   ],
   "source": [
    "# Celda 2.1 - rentas promedio para cada valor de la variable \"hour\"\n",
    "bikes.groupby('hour').total.mean().plot()"
   ]
  },
  {
   "cell_type": "code",
   "execution_count": 7,
   "metadata": {},
   "outputs": [
    {
     "data": {
      "text/plain": [
       "<Axes: xlabel='hour'>"
      ]
     },
     "execution_count": 7,
     "metadata": {},
     "output_type": "execute_result"
    },
    {
     "data": {
      "image/png": "[encoded data removed]",
      "text/plain": [
       "<Figure size 640x480 with 1 Axes>"
      ]
     },
     "metadata": {},
     "output_type": "display_data"
    }
   ],
   "source": [
    "# Celda 2.2 - \"season\"=1 escriba su código y hallazgos \n",
    "bikes.loc[bikes['season'] == 1, :].groupby('hour').total.mean().plot(color = \"blue\")"
   ]
  },
  {
   "cell_type": "code",
   "execution_count": 8,
   "metadata": {},
   "outputs": [
    {
     "data": {
      "text/plain": [
       "<Axes: xlabel='hour'>"
      ]
     },
     "execution_count": 8,
     "metadata": {},
     "output_type": "execute_result"
    },
    {
     "data": {
      "image/png": "[encoded data removed]",
      "text/plain": [
       "<Figure size 640x480 with 1 Axes>"
      ]
     },
     "metadata": {},
     "output_type": "display_data"
    }
   ],
   "source": [
    "# Celda 2.3 - \"season\"=3 escriba su código y hallazgos \n",
    "bikes.loc[bikes['season'] == 3, :].groupby('hour').total.mean().plot(color = \"green\")"
   ]
  },
  {
   "cell_type": "code",
   "execution_count": 9,
   "metadata": {},
   "outputs": [
    {
     "data": {
      "image/png": "[encoded data removed]",
      "text/plain": [
       "<Figure size 640x480 with 1 Axes>"
      ]
     },
     "metadata": {},
     "output_type": "display_data"
    }
   ],
   "source": [
    "import matplotlib.pyplot as plt \n",
    "\n",
    "demanda_por_season = bikes.groupby(['hour', 'season']).total.mean().reset_index()\n",
    "\n",
    "plt.plot(demanda_por_season.loc[demanda_por_season['season'] == 1, 'hour'], demanda_por_season.loc[demanda_por_season['season'] == 1, 'total'], label = \"invierno\", color = \"blue\", linestyle=\"-\") \n",
    "plt.plot(demanda_por_season.loc[demanda_por_season['season'] == 3, 'hour'], demanda_por_season.loc[demanda_por_season['season'] == 3, 'total'], label = \"verano\", color = \"green\", linestyle=\"-\") \n",
    "plt.legend() \n",
    "plt.show()"
   ]
  },
  {
   "cell_type": "markdown",
   "metadata": {},
   "source": [
    "Al analizar la demanda promedio de bicicletas según la hora del día y la temporada, se puede observar que el comportamiento estacional durante las horas del día es similar tanto para invierno como verano, ambos muestran una distribución con alta demanda en las horas de entrada y salida del horario laboral. Sin embargo, como se resaltó anteriormente, en verano existe una demanda mayor, lo que se puede observar en el gráfico combinado donde la línea verde (demanda de verano) tiene una forma similar a la línea azul (demanda de invierno), pero tiene valores superiores."
   ]
  },
  {
   "cell_type": "markdown",
   "metadata": {},
   "source": [
    "### Punto 3 - Regresión lineal\n",
    "En la celda 3 ajuste un modelo de regresión lineal a todo el conjunto de datos, utilizando \"total\" como variable de respuesta y \"season\" y \"hour\" como las únicas variables predictoras, teniendo en cuenta que la variable \"season\" es categórica. Luego, imprima los coeficientes e interprételos. ¿Cuáles son las limitaciones de la regresión lineal en este caso?"
   ]
  },
  {
   "cell_type": "code",
   "execution_count": 10,
   "metadata": {},
   "outputs": [
    {
     "name": "stdout",
     "output_type": "stream",
     "text": [
      "COEFICIENTES:\n",
      "['hour', 'season_2', 'season_3', 'season_4']\n",
      "[ 10.54520609 100.31723192 119.46754995  84.08311787]\n",
      "\n",
      "Mean Squared Error: 26473.647170373013\n"
     ]
    }
   ],
   "source": [
    "# Celda 3\n",
    "\n",
    "from sklearn.linear_model import LinearRegression\n",
    "from sklearn.metrics import mean_squared_error\n",
    "from sklearn.model_selection import train_test_split\n",
    "\n",
    "# Transformo la variable categórica a dummies\n",
    "dummy_variables = pd.get_dummies(bikes['season'], drop_first=True, prefix='season').astype(int)\n",
    "bikes_con_dummies = pd.concat([bikes.loc[:, ['hour', 'total']], dummy_variables], axis=1)\n",
    "\n",
    "# Separo las variables dependientes de las independientes\n",
    "X = bikes_con_dummies.loc[:, bikes_con_dummies.columns != 'total']\n",
    "y = bikes_con_dummies['total']\n",
    "\n",
    "# Calculo los coeficientes\n",
    "model = LinearRegression()\n",
    "print(\"COEFICIENTES:\")\n",
    "print(list(X.columns))\n",
    "model.fit(X, y)\n",
    "print(model.coef_)\n",
    "\n",
    "#Separo en entrenamiento y muestra\n",
    "X_train, X_test, y_train, y_test = train_test_split(X, y, random_state=1)\n",
    "\n",
    "# Estimo el modelo de nuevo y calculo el desempeño\n",
    "model = LinearRegression()\n",
    "model.fit(X_train, y_train)\n",
    "y_pred = model.predict(X_test)\n",
    "mse = mean_squared_error(y_test, y_pred)\n",
    "print(\"\\nMean Squared Error:\", mse)"
   ]
  },
  {
   "cell_type": "markdown",
   "metadata": {},
   "source": [
    "Después de ajustar el modelo de regresión lineal podemos observar que el coeficiente para la variable **hour** es 10.54, para **season_2** es de 100.32, para **season_3** 119.47 y para **season_4** es 84.08. Esto se puede interpretar como:\n",
    "\n",
    "- Por cada hora que pasa en el día, existe un incremento de la demanda de biciletas de 10.54.\n",
    "- Si la temporada es season_2 (primavera), la demanda será 100 bicicletas mayor.\n",
    "- Si la temporada es season_3 (verano), la demanda será 119 bicicletas mayor.\n",
    "- Si la temporada es season_4 (otoño), la demanda será 84 bicicletas mayor.\n",
    "\n",
    "Aunque para las variables de las temporadas el modelo parece tener una interpretación lógica para los coeficientes, no sucede lo mismo con la variable de la hora, ya que, como se observó anteriormente, la demanda no es estrictamente creciente a lo largo del día, sino que hay una elevada demanda en la entrada del horario laboral y otro incremento a la salida del horario laboral. Esto es una demostración de las limitantes de la regresión lineal, pues no es posible capturar los comportamientos **no lineales** de los predictores de manera sencilla. "
   ]
  },
  {
   "cell_type": "markdown",
   "metadata": {},
   "source": [
    "### Punto 4 - Árbol de decisión manual\n",
    "En la celda 4 cree un árbol de decisiones para pronosticar la variable \"total\" iterando **manualmente** sobre las variables \"hour\" y  \"season\". El árbol debe tener al menos 6 nodos finales."
   ]
  },
  {
   "cell_type": "code",
   "execution_count": 11,
   "metadata": {},
   "outputs": [],
   "source": [
    "# Celda 4\n",
    "\n",
    "# Definición de la función mse para calular el mse \n",
    "def get_mse(X_col, y, split):\n",
    "    \n",
    "    filter_l = X_col < split\n",
    "    y_l = y.loc[filter_l]\n",
    "    y_r = y.loc[~filter_l]\n",
    "    \n",
    "    n_l = y_l.shape[0]\n",
    "    n_r = y_r.shape[0]\n",
    "\n",
    "    #En caso no haya datos en alguno de los nodos, saco el mse solo del que si tiene\n",
    "    mse_l = 0\n",
    "    mse_r = 0\n",
    "    if n_l != 0:\n",
    "        mse_l = np.mean((y_l - np.mean(y_l)) ** 2)\n",
    "    if n_r != 0:\n",
    "        mse_r = np.mean((y_r - np.mean(y_r)) ** 2)\n",
    "    \n",
    "    mse = (n_l / (n_l + n_r) * mse_l) + (n_r / (n_l + n_r) * mse_r)\n",
    "    \n",
    "    return mse\n",
    "\n",
    "# Definición de la función best_split para calcular cuál es la mejor variable y punto de corte para hacer la bifurcación del árbol\n",
    "def best_split(X, y, num_pct=10):\n",
    "    \n",
    "    features = range(X.shape[1])\n",
    "    \n",
    "    best_split = [0, 0, -1]  # j, split, mse\n",
    "    \n",
    "    # Para todas las varibles \n",
    "    for j in features:\n",
    "        \n",
    "        splits = np.percentile(X.iloc[:, j], np.arange(0, 100, 100.0 / (num_pct+1)).tolist())\n",
    "        splits = np.unique(splits)[1:]\n",
    "        \n",
    "        #En caso haya mas de una particion\n",
    "        if len(splits) > 0:\n",
    "            # Para cada partición\n",
    "            for split in splits:\n",
    "                mse = get_mse(X.iloc[:, j], y, split)\n",
    "                if best_split[2] == -1:\n",
    "                    best_split = [j, split, mse]\n",
    "                elif mse < best_split[2]:\n",
    "                    best_split = [j, split, mse]\n",
    "        \n",
    "        #Si solo hay una particion, solo le saco el mse\n",
    "        else:\n",
    "            splits = np.percentile(X.iloc[:, j], np.arange(0, 100, 100.0 / (num_pct+1)).tolist())\n",
    "            split = np.unique(splits)[0]\n",
    "            mse = get_mse(X.iloc[:, j], y, split)\n",
    "            \n",
    "            if best_split[2] == -1:\n",
    "                best_split = [j, split, mse]\n",
    "            elif mse < best_split[2]:\n",
    "                best_split = [j, split, mse]\n",
    "            \n",
    "    \n",
    "    return best_split\n",
    "\n",
    "# Definición de la función tree_grow para hacer un crecimiento recursivo del árbol\n",
    "def tree_grow(X, y, level=0, min_mse=0, max_depth=None, num_pct=10):\n",
    "    \n",
    "    # Si solo es una observación\n",
    "    if X.shape[0] == 1:\n",
    "        tree = dict(y_pred=y.iloc[:1].values[0], level=level, split=-1, n_samples=1, mse=0)\n",
    "        return tree\n",
    "    \n",
    "    # Calcular la mejor división\n",
    "    j, split, mse = best_split(X, y, num_pct)\n",
    "    \n",
    "    # Guardar el árbol y estimar la predicción\n",
    "    y_pred = int(y.mean()) \n",
    "    \n",
    "    tree = dict(y_pred=y_pred, level=level, split=-1, n_samples=X.shape[0], mse=mse)\n",
    "    # Revisar el criterio de parada \n",
    "    if mse < min_mse:\n",
    "        return tree\n",
    "    if max_depth is not None:\n",
    "        if level >= max_depth:\n",
    "            return tree   \n",
    "    \n",
    "    # Continuar creando la partición\n",
    "    filter_l = X.iloc[:, j] < split\n",
    "    X_l, y_l = X.loc[filter_l], y.loc[filter_l]\n",
    "    X_r, y_r = X.loc[~filter_l], y.loc[~filter_l]\n",
    "    tree['split'] = [j, split]\n",
    "\n",
    "    # En caso de que hayan datos, busco la siguiente iteración para cada partición\n",
    "    if len(X_l) > 0:\n",
    "        tree['sl'] = tree_grow(X_l, y_l, level + 1, min_mse=min_mse, max_depth=max_depth, num_pct=num_pct)\n",
    "    if len(X_r) > 0:\n",
    "        tree['sr'] = tree_grow(X_r, y_r, level + 1, min_mse=min_mse, max_depth=max_depth, num_pct=num_pct)\n",
    "    \n",
    "    return tree"
   ]
  },
  {
   "cell_type": "code",
   "execution_count": 12,
   "metadata": {},
   "outputs": [
    {
     "data": {
      "text/plain": [
       "{'y_pred': 191,\n",
       " 'level': 0,\n",
       " 'split': [0, 8.0],\n",
       " 'n_samples': 10886,\n",
       " 'mse': 23675.892974467788,\n",
       " 'sl': {'y_pred': 55,\n",
       "  'level': 1,\n",
       "  'split': [0, 7.0],\n",
       "  'n_samples': 3594,\n",
       "  'mse': 4569.219380357905,\n",
       "  'sl': {'y_pred': 32,\n",
       "   'level': 2,\n",
       "   'split': [0, 6.0],\n",
       "   'n_samples': 3139,\n",
       "   'mse': 1242.1585299291187,\n",
       "   'sl': {'y_pred': 25,\n",
       "    'level': 3,\n",
       "    'split': -1,\n",
       "    'n_samples': 2684,\n",
       "    'mse': 754.3758482230122},\n",
       "   'sr': {'y_pred': 76,\n",
       "    'level': 3,\n",
       "    'split': -1,\n",
       "    'n_samples': 455,\n",
       "    'mse': 2849.677532032201}},\n",
       "  'sr': {'y_pred': 213,\n",
       "   'level': 2,\n",
       "   'split': [2, 1.0],\n",
       "   'n_samples': 455,\n",
       "   'mse': 24424.406278497958,\n",
       "   'sl': {'y_pred': 196,\n",
       "    'level': 3,\n",
       "    'split': -1,\n",
       "    'n_samples': 341,\n",
       "    'mse': 21737.005799149127},\n",
       "   'sr': {'y_pred': 264,\n",
       "    'level': 3,\n",
       "    'split': -1,\n",
       "    'n_samples': 114,\n",
       "    'mse': 30497.823330255465}}},\n",
       " 'sr': {'y_pred': 258,\n",
       "  'level': 1,\n",
       "  'split': [0, 21.0],\n",
       "  'n_samples': 7292,\n",
       "  'mse': 27620.291987504774,\n",
       "  'sl': {'y_pred': 287,\n",
       "   'level': 2,\n",
       "   'split': [0, 16.0],\n",
       "   'n_samples': 5924,\n",
       "   'mse': 29989.855382267124,\n",
       "   'sl': {'y_pred': 247,\n",
       "    'level': 3,\n",
       "    'split': -1,\n",
       "    'n_samples': 3644,\n",
       "    'mse': 22452.12068250157},\n",
       "   'sr': {'y_pred': 351,\n",
       "    'level': 3,\n",
       "    'split': -1,\n",
       "    'n_samples': 2280,\n",
       "    'mse': 34749.71367648379}},\n",
       "  'sr': {'y_pred': 132,\n",
       "   'level': 2,\n",
       "   'split': [0, 23.0],\n",
       "   'n_samples': 1368,\n",
       "   'mse': 5327.341617933723,\n",
       "   'sl': {'y_pred': 153,\n",
       "    'level': 3,\n",
       "    'split': -1,\n",
       "    'n_samples': 912,\n",
       "    'mse': 5654.932607468965},\n",
       "   'sr': {'y_pred': 89,\n",
       "    'level': 3,\n",
       "    'split': -1,\n",
       "    'n_samples': 456,\n",
       "    'mse': 2314.796552785472}}}}"
      ]
     },
     "execution_count": 12,
     "metadata": {},
     "output_type": "execute_result"
    }
   ],
   "source": [
    "# Estimo el arbol. Para que tenga al menos 6 nodos establezco el mse minimo en 0 y la profundidad maxima en 3\n",
    "arbol_punto4 = tree_grow(X, y, level=0, min_mse=0, max_depth=3, num_pct=10)\n",
    "arbol_punto4"
   ]
  },
  {
   "cell_type": "code",
   "execution_count": 13,
   "metadata": {},
   "outputs": [],
   "source": [
    "# Definición de la función tree_predict para hacer predicciones según las variables 'X' y el árbol 'tree'\n",
    "\n",
    "def tree_predict(X, tree):\n",
    "    \n",
    "    predicted = np.ones(X.shape[0])\n",
    "\n",
    "    # Revisar si es el nodo final\n",
    "    if tree['split'] == -1:\n",
    "        predicted = predicted * tree['y_pred']\n",
    "            \n",
    "    else:\n",
    "        \n",
    "        j, split = tree['split']\n",
    "        filter_l = (X.iloc[:, j] < split)\n",
    "        X_l = X.loc[filter_l]\n",
    "        X_r = X.loc[~filter_l]\n",
    "\n",
    "        if X_l.shape[0] == 0:  # Si el nodo izquierdo está vacio solo continua con el derecho \n",
    "            predicted[~filter_l] = tree_predict(X_r, tree['sr'])\n",
    "        elif X_r.shape[0] == 0:  #  Si el nodo derecho está vacio solo continua con el izquierdo\n",
    "            predicted[filter_l] = tree_predict(X_l, tree['sl'])\n",
    "        else:\n",
    "            predicted[filter_l] = tree_predict(X_l, tree['sl'])\n",
    "            predicted[~filter_l] = tree_predict(X_r, tree['sr'])\n",
    "\n",
    "    return predicted\n"
   ]
  },
  {
   "cell_type": "code",
   "execution_count": 14,
   "metadata": {},
   "outputs": [
    {
     "data": {
      "text/plain": [
       "array([ 25.,  25.,  25., ..., 153., 153.,  89.])"
      ]
     },
     "execution_count": 14,
     "metadata": {},
     "output_type": "execute_result"
    }
   ],
   "source": [
    "# Ejecución de función tree_predict\n",
    "tree_predict(X, arbol_punto4)"
   ]
  },
  {
   "cell_type": "markdown",
   "metadata": {},
   "source": [
    "### Punto 5 - Árbol de decisión con librería\n",
    "En la celda 5 entrene un árbol de decisiones con la **librería sklearn**, usando las variables predictoras \"season\" y \"hour\" y calibre los parámetros que considere conveniente para obtener un mejor desempeño. Recuerde dividir los datos en conjuntos de entrenamiento y validación para esto. Comente el desempeño del modelo con alguna métrica de desempeño de modelos de regresión y compare desempeño con el modelo del punto 3."
   ]
  },
  {
   "cell_type": "code",
   "execution_count": 15,
   "metadata": {},
   "outputs": [
    {
     "data": {
      "image/png": "[encoded data removed]",
      "text/plain": [
       "<Figure size 640x480 with 1 Axes>"
      ]
     },
     "metadata": {},
     "output_type": "display_data"
    },
    {
     "name": "stdout",
     "output_type": "stream",
     "text": [
      "Mejor profundidad del árbol:  9\n",
      "MSE del árbol: 13225.457029403828\n"
     ]
    }
   ],
   "source": [
    "# Celda 5\n",
    "from sklearn.model_selection import cross_val_score\n",
    "from sklearn.tree import DecisionTreeRegressor\n",
    "\n",
    "\n",
    "# Lista de valores para calibrar el criterio de parada de máxima profundidad (max_depth)\n",
    "max_depth_range = range(1, 21)\n",
    "\n",
    "# Lista para guardar los valores del MSE para cada valor de máxima profundidad (max_depth)\n",
    "mse_scores = []\n",
    "\n",
    "# Loop para obtener el desempeño del modelo de acuerdo con la máxima profundidad\n",
    "for depth in max_depth_range:\n",
    "    # Definición del árbol de decisión usando DecisionTreeRegressor de la libreria sklearn\n",
    "    dt = DecisionTreeRegressor(max_depth=depth, random_state=1)\n",
    "    mse_scores.append(-cross_val_score(dt, X_train, y_train, cv=10, scoring='neg_mean_squared_error').mean())\n",
    "\n",
    "# Gráfica max_depth versus MSE (error del modelo)\n",
    "plt.plot(max_depth_range, mse_scores)\n",
    "plt.xlabel('max_depth')\n",
    "plt.ylabel('MSE')\n",
    "plt.show()\n",
    "\n",
    "# Mejor MSE (desempeño del modelo) y su correspondiente max_depth\n",
    "mejor_depth = sorted(zip(mse_scores, max_depth_range))[0]\n",
    "\n",
    "# Se ajusta un árbol usando este valor el mejor depth\n",
    "dt = DecisionTreeRegressor(max_depth=mejor_depth[1], random_state=1)\n",
    "dt.fit(X_train, y_train)\n",
    "\n",
    "#Evaluamos el desempeño del modelo\n",
    "y_pred = dt.predict(X_test)\n",
    "mse = mean_squared_error(y_test, y_pred)\n",
    "print(\"Mejor profundidad del árbol: \", mejor_depth[1])\n",
    "print(\"MSE del árbol:\", mse)"
   ]
  },
  {
   "cell_type": "markdown",
   "metadata": {},
   "source": [
    "Al entrenar un árbol de decisiones con la librería sklearn, se obtuvo que el MSE con una profundidad de 9 es 13225.46, el cual es considerablemente inferior al MSE que se obtuvo para la regresión lineal en el punto 3 (26473.65). Esto resalta las fortalezas que tienen los árboles de decisión para representar relaciones no lineales en comparación a la regresión lineal."
   ]
  },
  {
   "cell_type": "markdown",
   "metadata": {},
   "source": [
    "## Parte B - Métodos de ensamblajes\n",
    "En esta parte del taller se usará el conjunto de datos de Popularidad de Noticias Online. El objetivo es predecir si la notica es popular o no, la popularidad está dada por la cantidad de reacciones en redes sociales. Para más detalles puede visitar el siguiente enlace: [datos](https://archive.ics.uci.edu/ml/datasets/online+news+popularity)."
   ]
  },
  {
   "cell_type": "markdown",
   "metadata": {},
   "source": [
    "### Datos popularidad de noticias"
   ]
  },
  {
   "cell_type": "code",
   "execution_count": 16,
   "metadata": {},
   "outputs": [
    {
     "data": {
      "text/html": [
       "<div>\n",
       "<style scoped>\n",
       "    .dataframe tbody tr th:only-of-type {\n",
       "        vertical-align: middle;\n",
       "    }\n",
       "\n",
       "    .dataframe tbody tr th {\n",
       "        vertical-align: top;\n",
       "    }\n",
       "\n",
       "    .dataframe thead th {\n",
       "        text-align: right;\n",
       "    }\n",
       "</style>\n",
       "<table border=\"1\" class=\"dataframe\">\n",
       "  <thead>\n",
       "    <tr style=\"text-align: right;\">\n",
       "      <th></th>\n",
       "      <th>url</th>\n",
       "      <th>timedelta</th>\n",
       "      <th>n_tokens_title</th>\n",
       "      <th>n_tokens_content</th>\n",
       "      <th>n_unique_tokens</th>\n",
       "      <th>n_non_stop_words</th>\n",
       "      <th>n_non_stop_unique_tokens</th>\n",
       "      <th>num_hrefs</th>\n",
       "      <th>num_self_hrefs</th>\n",
       "      <th>num_imgs</th>\n",
       "      <th>...</th>\n",
       "      <th>min_positive_polarity</th>\n",
       "      <th>max_positive_polarity</th>\n",
       "      <th>avg_negative_polarity</th>\n",
       "      <th>min_negative_polarity</th>\n",
       "      <th>max_negative_polarity</th>\n",
       "      <th>title_subjectivity</th>\n",
       "      <th>title_sentiment_polarity</th>\n",
       "      <th>abs_title_subjectivity</th>\n",
       "      <th>abs_title_sentiment_polarity</th>\n",
       "      <th>Popular</th>\n",
       "    </tr>\n",
       "  </thead>\n",
       "  <tbody>\n",
       "    <tr>\n",
       "      <th>0</th>\n",
       "      <td>http://mashable.com/2014/12/10/cia-torture-rep...</td>\n",
       "      <td>28.0</td>\n",
       "      <td>9.0</td>\n",
       "      <td>188.0</td>\n",
       "      <td>0.732620</td>\n",
       "      <td>1.0</td>\n",
       "      <td>0.844262</td>\n",
       "      <td>5.0</td>\n",
       "      <td>1.0</td>\n",
       "      <td>1.0</td>\n",
       "      <td>...</td>\n",
       "      <td>0.200000</td>\n",
       "      <td>0.80</td>\n",
       "      <td>-0.487500</td>\n",
       "      <td>-0.60</td>\n",
       "      <td>-0.250000</td>\n",
       "      <td>0.9</td>\n",
       "      <td>0.8</td>\n",
       "      <td>0.4</td>\n",
       "      <td>0.8</td>\n",
       "      <td>1</td>\n",
       "    </tr>\n",
       "    <tr>\n",
       "      <th>1</th>\n",
       "      <td>http://mashable.com/2013/10/18/bitlock-kicksta...</td>\n",
       "      <td>447.0</td>\n",
       "      <td>7.0</td>\n",
       "      <td>297.0</td>\n",
       "      <td>0.653199</td>\n",
       "      <td>1.0</td>\n",
       "      <td>0.815789</td>\n",
       "      <td>9.0</td>\n",
       "      <td>4.0</td>\n",
       "      <td>1.0</td>\n",
       "      <td>...</td>\n",
       "      <td>0.160000</td>\n",
       "      <td>0.50</td>\n",
       "      <td>-0.135340</td>\n",
       "      <td>-0.40</td>\n",
       "      <td>-0.050000</td>\n",
       "      <td>0.1</td>\n",
       "      <td>-0.1</td>\n",
       "      <td>0.4</td>\n",
       "      <td>0.1</td>\n",
       "      <td>0</td>\n",
       "    </tr>\n",
       "    <tr>\n",
       "      <th>2</th>\n",
       "      <td>http://mashable.com/2013/07/24/google-glass-po...</td>\n",
       "      <td>533.0</td>\n",
       "      <td>11.0</td>\n",
       "      <td>181.0</td>\n",
       "      <td>0.660377</td>\n",
       "      <td>1.0</td>\n",
       "      <td>0.775701</td>\n",
       "      <td>4.0</td>\n",
       "      <td>3.0</td>\n",
       "      <td>1.0</td>\n",
       "      <td>...</td>\n",
       "      <td>0.136364</td>\n",
       "      <td>1.00</td>\n",
       "      <td>0.000000</td>\n",
       "      <td>0.00</td>\n",
       "      <td>0.000000</td>\n",
       "      <td>0.3</td>\n",
       "      <td>1.0</td>\n",
       "      <td>0.2</td>\n",
       "      <td>1.0</td>\n",
       "      <td>0</td>\n",
       "    </tr>\n",
       "    <tr>\n",
       "      <th>3</th>\n",
       "      <td>http://mashable.com/2013/11/21/these-are-the-m...</td>\n",
       "      <td>413.0</td>\n",
       "      <td>12.0</td>\n",
       "      <td>781.0</td>\n",
       "      <td>0.497409</td>\n",
       "      <td>1.0</td>\n",
       "      <td>0.677350</td>\n",
       "      <td>10.0</td>\n",
       "      <td>3.0</td>\n",
       "      <td>1.0</td>\n",
       "      <td>...</td>\n",
       "      <td>0.100000</td>\n",
       "      <td>1.00</td>\n",
       "      <td>-0.195701</td>\n",
       "      <td>-0.40</td>\n",
       "      <td>-0.071429</td>\n",
       "      <td>0.0</td>\n",
       "      <td>0.0</td>\n",
       "      <td>0.5</td>\n",
       "      <td>0.0</td>\n",
       "      <td>0</td>\n",
       "    </tr>\n",
       "    <tr>\n",
       "      <th>4</th>\n",
       "      <td>http://mashable.com/2014/02/11/parking-ticket-...</td>\n",
       "      <td>331.0</td>\n",
       "      <td>8.0</td>\n",
       "      <td>177.0</td>\n",
       "      <td>0.685714</td>\n",
       "      <td>1.0</td>\n",
       "      <td>0.830357</td>\n",
       "      <td>3.0</td>\n",
       "      <td>2.0</td>\n",
       "      <td>1.0</td>\n",
       "      <td>...</td>\n",
       "      <td>0.100000</td>\n",
       "      <td>0.55</td>\n",
       "      <td>-0.175000</td>\n",
       "      <td>-0.25</td>\n",
       "      <td>-0.100000</td>\n",
       "      <td>0.0</td>\n",
       "      <td>0.0</td>\n",
       "      <td>0.5</td>\n",
       "      <td>0.0</td>\n",
       "      <td>0</td>\n",
       "    </tr>\n",
       "  </tbody>\n",
       "</table>\n",
       "<p>5 rows × 61 columns</p>\n",
       "</div>"
      ],
      "text/plain": [
       "                                                 url  timedelta  \\\n",
       "0  http://mashable.com/2014/12/10/cia-torture-rep...       28.0   \n",
       "1  http://mashable.com/2013/10/18/bitlock-kicksta...      447.0   \n",
       "2  http://mashable.com/2013/07/24/google-glass-po...      533.0   \n",
       "3  http://mashable.com/2013/11/21/these-are-the-m...      413.0   \n",
       "4  http://mashable.com/2014/02/11/parking-ticket-...      331.0   \n",
       "\n",
       "   n_tokens_title  n_tokens_content  n_unique_tokens  n_non_stop_words  \\\n",
       "0             9.0             188.0         0.732620               1.0   \n",
       "1             7.0             297.0         0.653199               1.0   \n",
       "2            11.0             181.0         0.660377               1.0   \n",
       "3            12.0             781.0         0.497409               1.0   \n",
       "4             8.0             177.0         0.685714               1.0   \n",
       "\n",
       "   n_non_stop_unique_tokens  num_hrefs  num_self_hrefs  num_imgs  ...  \\\n",
       "0                  0.844262        5.0             1.0       1.0  ...   \n",
       "1                  0.815789        9.0             4.0       1.0  ...   \n",
       "2                  0.775701        4.0             3.0       1.0  ...   \n",
       "3                  0.677350       10.0             3.0       1.0  ...   \n",
       "4                  0.830357        3.0             2.0       1.0  ...   \n",
       "\n",
       "   min_positive_polarity  max_positive_polarity  avg_negative_polarity  \\\n",
       "0               0.200000                   0.80              -0.487500   \n",
       "1               0.160000                   0.50              -0.135340   \n",
       "2               0.136364                   1.00               0.000000   \n",
       "3               0.100000                   1.00              -0.195701   \n",
       "4               0.100000                   0.55              -0.175000   \n",
       "\n",
       "   min_negative_polarity  max_negative_polarity  title_subjectivity  \\\n",
       "0                  -0.60              -0.250000                 0.9   \n",
       "1                  -0.40              -0.050000                 0.1   \n",
       "2                   0.00               0.000000                 0.3   \n",
       "3                  -0.40              -0.071429                 0.0   \n",
       "4                  -0.25              -0.100000                 0.0   \n",
       "\n",
       "   title_sentiment_polarity  abs_title_subjectivity  \\\n",
       "0                       0.8                     0.4   \n",
       "1                      -0.1                     0.4   \n",
       "2                       1.0                     0.2   \n",
       "3                       0.0                     0.5   \n",
       "4                       0.0                     0.5   \n",
       "\n",
       "   abs_title_sentiment_polarity  Popular  \n",
       "0                           0.8        1  \n",
       "1                           0.1        0  \n",
       "2                           1.0        0  \n",
       "3                           0.0        0  \n",
       "4                           0.0        0  \n",
       "\n",
       "[5 rows x 61 columns]"
      ]
     },
     "execution_count": 16,
     "metadata": {},
     "output_type": "execute_result"
    }
   ],
   "source": [
    "# Lectura de la información de archivo .csv\n",
    "df = pd.read_csv('https://raw.githubusercontent.com/davidzarruk/MIAD_ML_NLP_2023/main/datasets/mashable.csv', index_col=0)\n",
    "df.head()"
   ]
  },
  {
   "cell_type": "code",
   "execution_count": 17,
   "metadata": {},
   "outputs": [
    {
     "data": {
      "text/plain": [
       "0.5"
      ]
     },
     "execution_count": 17,
     "metadata": {},
     "output_type": "execute_result"
    }
   ],
   "source": [
    "# Definición variable de interes y variables predictoras\n",
    "X = df.drop(['url', 'Popular'], axis=1)\n",
    "y = df['Popular']\n",
    "y.mean()"
   ]
  },
  {
   "cell_type": "code",
   "execution_count": 18,
   "metadata": {},
   "outputs": [],
   "source": [
    "# División de la muestra en set de entrenamiento y prueba\n",
    "from sklearn.model_selection import train_test_split\n",
    "X_train, X_test, y_train, y_test = train_test_split(X, y, random_state=1)"
   ]
  },
  {
   "cell_type": "markdown",
   "metadata": {},
   "source": [
    "### Punto 6 - Árbol de decisión y regresión logística\n",
    "En la celda 6 construya un árbol de decisión y una regresión logística. Para el árbol calibre al menos un parámetro y evalúe el desempeño de cada modelo usando las métricas de Accuracy y F1-Score."
   ]
  },
  {
   "cell_type": "code",
   "execution_count": 19,
   "metadata": {},
   "outputs": [
    {
     "name": "stdout",
     "output_type": "stream",
     "text": [
      "Precisión del árbol de decisión: 0.6453333333333333\n",
      "F1 score del árbol de decisión: 0.6453289196958573\n",
      "Precisión de la regresión logística: 0.6126666666666667\n",
      "F1 score de la regresión logística: 0.6126231108428497\n"
     ]
    }
   ],
   "source": [
    "# Celda 6\n",
    "\n",
    "from sklearn.tree import DecisionTreeClassifier\n",
    "from sklearn.linear_model import LogisticRegression\n",
    "from sklearn.metrics import accuracy_score\n",
    "from sklearn.model_selection import cross_val_score\n",
    "from sklearn.metrics import f1_score\n",
    "\n",
    "\n",
    "############################ Árbol de decisión ######################################################\n",
    "# Loop para obtener el desempeño del modelo de acuerdo con la máxima profundidad\n",
    "max_depth_range = range(1, 21)\n",
    "accuracy_scores = []\n",
    "for depth in max_depth_range:\n",
    "    clf = DecisionTreeClassifier(max_depth=depth, random_state=1)\n",
    "    accuracy_scores.append(cross_val_score(clf, X_train, y_train, cv=10, scoring='accuracy').mean())\n",
    "mejor_arbol = sorted(zip(accuracy_scores, max_depth_range))[::-1][0]\n",
    "\n",
    "# Estimo el modelo con el parámetro encontrado\n",
    "dt_classifier = DecisionTreeClassifier(max_depth= mejor_arbol[1])\n",
    "dt_classifier.fit(X_train, y_train)\n",
    "\n",
    "#Obtengo las métricas de desempeño\n",
    "y_pred_dt = dt_classifier.predict(X_test)\n",
    "accuracy_dt = accuracy_score(y_test, y_pred_dt)\n",
    "print(\"Precisión del árbol de decisión:\", accuracy_dt)\n",
    "dt_f1 = f1_score(y_test, y_pred_dt, average='weighted')\n",
    "print(\"F1 score del árbol de decisión:\", dt_f1)\n",
    "\n",
    "############################ Regresión logística ####################################################\n",
    "# Estimo el modelo con el parámetro encontrado\n",
    "logreg_classifier = LogisticRegression()\n",
    "logreg_classifier.fit(X_train, y_train)\n",
    "\n",
    "#Obtengo las métricas de desempeño\n",
    "y_pred_logreg = logreg_classifier.predict(X_test)\n",
    "accuracy_logreg = accuracy_score(y_test, y_pred_logreg)\n",
    "print(\"Precisión de la regresión logística:\", accuracy_logreg)\n",
    "lr_f1 = f1_score(y_test, y_pred_logreg, average='weighted')\n",
    "print(\"F1 score de la regresión logística:\", lr_f1)\n",
    "\n"
   ]
  },
  {
   "cell_type": "markdown",
   "metadata": {},
   "source": [
    "Según las métricas de accuracy y F-1, el modelo de árbol de decisión presenta un desempeño ligeramente superior al de la regresión logística, pues cuenta con un accuracy de 0.64 y un F-1 score de 0.64, en contraste al accuracy de 0.61 y F-1 score de 0.61 de la regresión logística. Cabe recalcar que la poca diferencia entre accuracy y F-1 score de cada modelo evidencia que el modelo no está favoreciendo en exceso ninguna clase en particular a expensas de otras."
   ]
  },
  {
   "cell_type": "markdown",
   "metadata": {},
   "source": [
    "### Punto 7 - Votación Mayoritaria\n",
    "En la celda 7 elabore un esamble con la metodología de **Votación mayoritaria** compuesto por 300 muestras bagged donde:\n",
    "\n",
    "-las primeras 100 muestras vienen de árboles de decisión donde max_depth tome un valor de su elección\\\n",
    "-las segundas 100 muestras vienen de árboles de decisión donde min_samples_leaf tome un valor de su elección\\\n",
    "-las últimas 100 muestras vienen de regresiones logísticas\n",
    "\n",
    "Evalúe cada uno de los tres modelos de manera independiente utilizando las métricas de Accuracy y F1-Score, luego evalúe el ensamble de modelos y compare los resultados. \n",
    "\n",
    "Nota: \n",
    "\n",
    "Para este ensamble de 300 modelos, deben hacer votación mayoritaria. Esto lo pueden hacer de distintas maneras. La más \"fácil\" es haciendo la votación \"manualmente\", como se hace a partir del minuto 5:45 del video de Ejemplo práctico de emsablajes en Coursera. Digo que es la más fácil porque si hacen la votación mayoritaria sobre las 300 predicciones van a obtener lo que se espera.\n",
    "\n",
    "Otra opción es: para cada uno de los 3 tipos de modelos, entrenar un ensamble de 100 modelos cada uno. Predecir para cada uno de esos tres ensambles y luego predecir como un ensamble de los 3 ensambles. La cuestión es que la votación mayoritaria al usar los 3 ensambles no necesariamente va a generar el mismo resultado que si hacen la votación mayoritaria directamente sobre los 300 modelos. Entonces, para los que quieran hacer esto, deben hacer ese último cálculo con cuidado.\n",
    "\n",
    "Para los que quieran hacerlo como ensamble de ensambles, digo que se debe hacer el ensamble final con cuidado por lo siguiente. Supongamos que:\n",
    "\n",
    "* para los 100 árboles del primer tipo, la votación mayoritaria es: 55% de los modelos predicen que la clase de una observación es \"1\"\n",
    "* para los 100 árboles del segundo tipo, la votación mayoritaria es: 55% de los modelos predicen que la clase de una observación es \"1\"\n",
    "* para las 100 regresiones logísticas, la votación mayoritaria es: 10% de los modelos predicen que la clase de una observación es \"1\"\n",
    "\n",
    "Si se hace la votación mayoritaria de los 300 modelos, la predicción de esa observación debería ser: (100*55%+100*55%+100*10%)/300 = 40% de los modelos votan porque la predicción debería ser \"1\". Es decir, la predicción del ensamble es \"0\" (dado que menos del 50% de modelos predijo un 1).\n",
    "\n",
    "Sin embargo, si miramos cada ensamble por separado, el primer ensamble predice \"1\", el segundo ensamble predice \"1\" y el último ensamble predice \"0\". Si hago votación mayoritaria sobre esto, la predicción va a ser \"1\", lo cual es distinto a si se hace la votación mayoritaria sobre los 300 modelos."
   ]
  },
  {
   "cell_type": "code",
   "execution_count": 23,
   "metadata": {},
   "outputs": [
    {
     "name": "stderr",
     "output_type": "stream",
     "text": [
      "100%|████████████████████████████████████████████████████████████████████████████████| 300/300 [00:07<00:00, 39.70it/s]\n"
     ]
    },
    {
     "name": "stdout",
     "output_type": "stream",
     "text": [
      "Métricas de desempeño para árboles de decisión con max_depth 20:\n",
      "F-1 score:  0.6613756613756614\n",
      "Accuracy:  0.6586666666666666\n",
      "\n",
      "Métricas de desempeño para árboles de decisión con min_samples_leaf 5:\n",
      "F-1 score: 0.6503733876442634\n",
      "Accuracy:  0.6566666666666666\n",
      "\n",
      "Métricas de desempeño para regresión logística:\n",
      "F-1 score: 0.6119402985074627\n",
      "Accuracy:  0.6186666666666667\n",
      "\n",
      "Métricas de desempeño para ensamble:\n",
      "F-1 score: 0.6178861788617886\n",
      "Accuracy:  0.624\n"
     ]
    }
   ],
   "source": [
    "# Celda 7\n",
    "from tqdm import tqdm\n",
    "from sklearn import metrics\n",
    "\n",
    "\n",
    "# Creación de 300 muestras de bootstrap\n",
    "n_estimators = 300\n",
    "np.random.seed(123)\n",
    "n_samples = X_train.shape[0]\n",
    "samples = [np.random.choice(a=n_samples, size=n_samples, replace=True) for _ in range(n_estimators)]\n",
    "\n",
    "# Entrenamiento de 300 modelos con las 300 muestras boostrap\n",
    "from sklearn.tree import DecisionTreeClassifier\n",
    "from sklearn.linear_model import LogisticRegression\n",
    "\n",
    "np.random.seed(123) \n",
    "seeds = np.random.randint(1, 10000, size=n_estimators)\n",
    "\n",
    "modelos = {}\n",
    "for i in tqdm(range(n_estimators)):\n",
    "    if i+1 <= 100:\n",
    "        modelos[i] = DecisionTreeClassifier(max_features=\"sqrt\", max_depth= 20, random_state=seeds[i])\n",
    "        modelos[i].fit(X_train.iloc[samples[i]], y_train.iloc[samples[i]])\n",
    "    elif i+1 <= 200:\n",
    "        modelos[i] = DecisionTreeClassifier(max_features=\"sqrt\", min_samples_leaf= 5, random_state=seeds[i])\n",
    "        modelos[i].fit(X_train.iloc[samples[i]], y_train.iloc[samples[i]])\n",
    "    else:\n",
    "        modelos[i] = LogisticRegression(random_state=seeds[i])\n",
    "        modelos[i].fit(X_train.iloc[samples[i]], y_train.iloc[samples[i]])\n",
    "\n",
    "# Predicción para los datos del set de test con cada modelo\n",
    "y_pred_df = pd.DataFrame(index=X_test.index, columns=list(range(n_estimators)))\n",
    "for i in range(n_estimators):\n",
    "    y_pred_df.iloc[:, i] = modelos[i].predict(X_test)\n",
    "\n",
    "# Votación mayoritaria\n",
    "y_pred = (y_pred_df.sum(axis=1) >= (n_estimators / 2)).astype(int)\n",
    "\n",
    "# Desempeño al hacer votación mayoritaria\n",
    "#Primero evaluamos los 3 modelos de manera independiente\n",
    "y_pred1 = (y_pred_df.iloc[:, 0:99].sum(axis=1) >= (100 / 2)).astype(int)\n",
    "y_pred2 = (y_pred_df.iloc[:, 100:199].sum(axis=1) >= (100 / 2)).astype(int)\n",
    "y_pred3 = (y_pred_df.iloc[:, 200:299].sum(axis=1) >= (100 / 2)).astype(int)\n",
    "print(\"Métricas de desempeño para árboles de decisión con max_depth 20:\")\n",
    "print(\"F-1 score: \", metrics.f1_score(y_pred1, y_test))\n",
    "print(\"Accuracy: \", metrics.accuracy_score(y_pred1, y_test))\n",
    "print(\"\\nMétricas de desempeño para árboles de decisión con min_samples_leaf 5:\")\n",
    "print(\"F-1 score:\", metrics.f1_score(y_pred2, y_test))\n",
    "print(\"Accuracy: \", metrics.accuracy_score(y_pred2, y_test))\n",
    "print(\"\\nMétricas de desempeño para regresión logística:\")\n",
    "print(\"F-1 score:\", metrics.f1_score(y_pred3, y_test))\n",
    "print(\"Accuracy: \", metrics.accuracy_score(y_pred3, y_test))\n",
    "print(\"\\nMétricas de desempeño para ensamble:\")\n",
    "print(\"F-1 score:\", metrics.f1_score(y_pred, y_test))\n",
    "print(\"Accuracy: \", metrics.accuracy_score(y_pred, y_test))"
   ]
  },
  {
   "cell_type": "markdown",
   "metadata": {},
   "source": [
    "Al evaluar el accuracy y el F-1 score de los modelos de foma independiente y del ensamblaje final podemos destacar que:\n",
    "\n",
    "- El modelo de árbol de decisión con max_depth = 5 es el que presenta un mejor desempeño, seguido de los árboles de decisión con min_samples_leaf = 5 y finalmente por la regresión logística.\n",
    "- El modelo de ensamblaje final tiene un desempeño inferior que los modelos de árboles pero superior que el modelo de regresión logística.\n",
    "- La poca diferencia entre accuracy y F-1 score de cada modelo evidencia que el modelo no está favoreciendo en exceso ninguna clase en particular a expensas de otras."
   ]
  },
  {
   "cell_type": "markdown",
   "metadata": {},
   "source": [
    "### Punto 8 - Votación Ponderada\n",
    "En la celda 8 elabore un ensamble con la metodología de **Votación ponderada** compuesto por 300 muestras bagged para los mismos tres escenarios del punto 7. Evalúe los modelos utilizando las métricas de Accuracy y F1-Score"
   ]
  },
  {
   "cell_type": "code",
   "execution_count": 24,
   "metadata": {},
   "outputs": [
    {
     "name": "stdout",
     "output_type": "stream",
     "text": [
      "\n",
      "Métricas de desempeño para ensamble:\n",
      "F-1 score: 0.6169491525423729\n",
      "Accuracy:  0.6233333333333333\n"
     ]
    }
   ],
   "source": [
    "# Celda 8\n",
    "\n",
    "samples_oob = []\n",
    "# Obtención de las observaciones fuera de la bolsa \"out-of-bag\" para cada muestra\n",
    "for sample in samples:\n",
    "    samples_oob.append(sorted(set(range(n_samples)) - set(sample)))\n",
    "\n",
    "# Estimación de los errores OOB para cada clasificador\n",
    "errors = np.zeros(n_estimators)\n",
    "for i in range(n_estimators):\n",
    "    y_pred_ = modelos[i].predict(X_train.iloc[samples_oob[i]])\n",
    "    errors[i] = 1 - metrics.accuracy_score(y_train.iloc[samples_oob[i]], y_pred_)\n",
    "\n",
    "# Obtención de los pesos alpha de cada modelo de acuerdo al error OOB\n",
    "alpha = (1 - errors) / (1 - errors).sum()\n",
    "\n",
    "# Ponderación de las predicciones con los pesos alpha\n",
    "weighted_sum = ((y_pred_df) * alpha).sum(axis=1)\n",
    "y_pred = (weighted_sum >= 0.5).astype(int)\n",
    "\n",
    "# Desempeño\n",
    "print(\"\\nMétricas de desempeño para ensamble:\")\n",
    "print(\"F-1 score:\", metrics.f1_score(y_pred, y_test))\n",
    "print(\"Accuracy: \", metrics.accuracy_score(y_pred, y_test))"
   ]
  },
  {
   "cell_type": "markdown",
   "metadata": {},
   "source": [
    "### Punto 9 - Comparación y análisis de resultados\n",
    "En la celda 9 comente sobre los resultados obtenidos con las metodologías usadas en los puntos 7 y 8, compare los resultados y enuncie posibles ventajas o desventajas de cada una de ellas."
   ]
  },
  {
   "cell_type": "markdown",
   "metadata": {},
   "source": [
    "Los resultados muestran que el desempeño del ensamblaje mediante la técnica de votación mayoritaria arroja un nivel de precisión (accuracy) de 0.624 y un puntaje F1 de 0.618. Estos valores son inferiores en comparación con el desempeño obtenido utilizando exclusivamente árboles de decisión con una profundidad máxima de 20 o con una cantidad mínima de muestras en las hojas igual a 5. Este hallazgo sugiere que la combinación de diferentes modelos mediante la votación mayoritaria no logra mejorar significativamente la predicción en relación con los modelos individuales.\r\n",
    "\r\n",
    "Además, es importante destacar que el ensamblaje de votación mayoritaria presenta un desempeño muy similar al de la votación ponderada, donde cada modelo contribuye con un peso diferente en la decisión final. Esto sugiere que la ponderación de los modelos no mejora sustancialmente la capacidad predictiva del ensambla en este caso.e.\r\n",
    "\r\n",
    "Por último, se observa que el modelo de regresión logística exhibe un desempeño ligeramente inferior en comparación con los árboles de decisión. Esta diferencia en el rendimiento de los modelos individuales puede estar contribuyendo a afectar la eficacia del ensamblaje, ya que la inclusión de un modelo con menor capacidad predictiva puede diluir el poder predictivo general del ensamblaje.\r\n",
    "\r\n",
    "En conclusión, estos resultados subrayan la importancia de seleccionar cuidadosamente los modelos base para el ensamblaje y sugieren que la combinación de modelos puede no siempre conducir a mejoras significativas en el rendimiento predictivo, especialmente si los modelos individuales no son igualmente competentes. Es fundamental realizar una evaluación exhaustiva de los modelos base y considerar estrategias alternativas de ensamblaje para maximizar la precisión y la generalización del modelo."
   ]
  },
  {
   "cell_type": "code",
   "execution_count": null,
   "metadata": {},
   "outputs": [],
   "source": []
  }
 ],
 "metadata": {
  "kernelspec": {
   "display_name": "Python 3 (ipykernel)",
   "language": "python",
   "name": "python3"
  },
  "language_info": {
   "codemirror_mode": {
    "name": "ipython",
    "version": 3
   },
   "file_extension": ".py",
   "mimetype": "text/x-python",
   "name": "python",
   "nbconvert_exporter": "python",
   "pygments_lexer": "ipython3",
   "version": "3.9.0"
  }
 },
 "nbformat": 4,
 "nbformat_minor": 4
}
